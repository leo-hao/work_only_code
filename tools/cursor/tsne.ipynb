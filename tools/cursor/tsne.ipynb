{
 "cells": [
  {
   "cell_type": "code",
   "execution_count": null,
   "metadata": {},
   "outputs": [],
   "source": []
  },
  {
   "attachments": {},
   "cell_type": "markdown",
   "metadata": {},
   "source": [
    "在mmseg的segformer中，inference_segmentor推理获得一张(1024,2048)的结果图，其中，每个像素代表不同的类，共19个类，用tsne将这个结果图转换成类的分布图，其中，不同类用不同的颜色表示"
   ]
  },
  {
   "cell_type": "code",
   "execution_count": null,
   "metadata": {},
   "outputs": [],
   "source": [
    "import numpy as np\n",
    "from sklearn.manifold import TSNE\n",
    "import matplotlib.pyplot as plt\n",
    "\n",
    "# assume result is the inference result from mmseg's segformer\n",
    "result = np.random.randint(0, 19, size=(1024, 2048))\n",
    "\n",
    "# flatten the result into a 1D array\n",
    "result_flat = result.flatten()\n",
    "\n",
    "# use TSNE to reduce the dimensionality of the result\n",
    "tsne = TSNE(n_components=2, random_state=0)\n",
    "result_tsne = tsne.fit_transform(result_flat.reshape(-1, 1))\n",
    "\n",
    "# plot the result using different colors for different classes\n",
    "plt.scatter(result_tsne[:, 0], result_tsne[:, 1], c=result_flat, cmap='tab20')\n",
    "plt.show()"
   ]
  },
  {
   "attachments": {},
   "cell_type": "markdown",
   "metadata": {},
   "source": [
    "在mmseg的segformer中，对一张cityscapes图片，通过inference_segmentor推理获得(1024,2048)的结果图；用pca降维后，再用tsne将这个结果图转换成类的分布图，其中，共19个类，不同类用不同的颜色表示"
   ]
  },
  {
   "cell_type": "code",
   "execution_count": null,
   "metadata": {},
   "outputs": [],
   "source": [
    "在mmcv中，用segformer对一张cityscapes图片进行语义分割，然后对分割结果进行PCA降维和t-SNE降维，最后将19个类分布的结果可视化。其中，每个类别的点使用不同的颜色表示。"
   ]
  },
  {
   "attachments": {},
   "cell_type": "markdown",
   "metadata": {},
   "source": [
    "from mmcv import Config\n",
    "from mmseg.apis import inference_segmentor, init_segmentor\n",
    "from sklearn.decomposition import PCA\n",
    "from sklearn.manifold import TSNE\n",
    "import matplotlib.pyplot as plt\n",
    "import numpy as np\n",
    "\n",
    "# load the config file\n",
    "cfg = Config.fromfile('configs/segformer/segformer_mit-b0_512x512_160k_ade20k.py')\n",
    "\n",
    "# load the model\n",
    "model = init_segmentor(cfg, checkpoint='checkpoints/segformer_mit-b0_512x512_160k_ade20k_20210615_190543-1c4f9a8e.pth')\n",
    "\n",
    "# inference the segmentation result\n",
    "result = inference_segmentor(model, 'demo/demo.png')\n",
    "\n",
    "# get the segmentation result\n",
    "seg_map = result[0]\n",
    "\n",
    "# get the class distribution\n",
    "# np.bincount(seg_map.flatten(), minlength=19)是一个函数，用于计算一维数组中每个非负整数的出现次数。其中，seg_map.flatten()将seg_map数组展平成一维数组，minlength=19表示输出的数组长度至少为19，如果数组中没有某个数，则该数的出现次数为0。\n",
    "class_dist = np.bincount(seg_map.flatten(), minlength=19)\n",
    "\n",
    "# perform PCA\n",
    "pca = PCA(n_components=2)\n",
    "pca_result = pca.fit_transform(class_dist.reshape(1, -1))\n",
    "\n",
    "# perform t-SNE\n",
    "tsne = TSNE(n_components=2)\n",
    "tsne_result = tsne.fit_transform(class_dist.reshape(1, -1))\n",
    "\n",
    "# plot the PCA result\n",
    "plt.scatter(pca_result[:, 0], pca_result[:, 1], c=np.arange(19))\n",
    "plt.title('PCA Result')\n",
    "plt.show()\n",
    "\n",
    "# plot the t-SNE result\n",
    "plt.scatter(tsne_result[:, 0], tsne_result[:, 1], c=np.arange(19))pca\n",
    "plt.title('t-SNE Result')\n",
    "plt.show()"
   ]
  },
  {
   "attachments": {},
   "cell_type": "markdown",
   "metadata": {},
   "source": [
    "在mmcv中，用segformer对一张cityscapes图片进行语义分割，然后用tsne对分割结果进行降维，最后将19个类分布的结果可视化。其中，每个类别的点使用不同的颜色表示。"
   ]
  },
  {
   "cell_type": "code",
   "execution_count": null,
   "metadata": {},
   "outputs": [],
   "source": [
    "from mmcv import Config\n",
    "from mmseg.apis import inference_segmentor, init_segmentor\n",
    "from sklearn.manifold import TSNE\n",
    "import matplotlib.pyplot as plt\n",
    "import numpy as np\n",
    "\n",
    "# load config from file\n",
    "cfg = Config.fromfile('configs/segformer/segformer_mit-b0_512x512_160k_ade20k.py')\n",
    "\n",
    "# build the model from a config file and a checkpoint file\n",
    "model = init_segmentor(cfg, 'checkpoints/segformer_mit-b0_512x512_160k_ade20k_20210615_190543-1c8f9a8e.pth')\n",
    "\n",
    "# test a single image\n",
    "img = 'demo/demo.png'\n",
    "result = inference_segmentor(model, img)\n",
    "\n",
    "# get the class distribution of the segmentation result\n",
    "class_dist = np.zeros((19,))\n",
    "for i in range(result[0].shape[0]):\n",
    "    for j in range(result[0].shape[1]):\n",
    "        class_dist[result[0][i][j]] += 1\n",
    "\n",
    "# perform t-SNE on the class distribution\n",
    "tsne = TSNE(n_components=2, random_state=0)\n",
    "class_dist_tsne = tsne.fit_transform(class_dist.reshape(1, -1))\n",
    "\n",
    "# plot the t-SNE result\n",
    "colors = ['b', 'g', 'r', 'c', 'm', 'y', 'k', 'w', 'orange', 'purple', 'brown', 'pink', 'gray', 'olive', 'navy', 'teal', 'gold', 'indigo', 'maroon']\n",
    "# class_dist_tsne[:, 0] represents the x-axis of the t-SNE plot, and class_dist_tsne[:, 1] represents the y-axis of the t-SNE plot\n",
    "plt.xlabel('t-SNE axis 1')\n",
    "plt.ylabel('t-SNE axis 2')\n",
    "# x represents the t-SNE axis 1 and y represents the t-SNE axis 2\n",
    "# class_dist_tsne[:, 0] represents the x-axis of the t-SNE plot, and class_dist_tsne[:, 1] represents the y-axis of the t-SNE plot\n",
    "plt.scatter(class_dist_tsne[:, 0], class_dist_tsne[:, 1], c=colors)\n",
    "plt.show()  "
   ]
  },
  {
   "attachments": {},
   "cell_type": "markdown",
   "metadata": {},
   "source": [
    "在mmcv中，用segformer对一张cityscapes图片进行语义分割，然后用tsne对分割结果进行降维，最后将19个类分布的结果可视化。其中，每个类别的点使用不同的颜色表示，并且标明类名。"
   ]
  },
  {
   "cell_type": "code",
   "execution_count": null,
   "metadata": {},
   "outputs": [],
   "source": [
    "from mmcv import Config\n",
    "from mmseg.apis import inference_segmentor, init_segmentor\n",
    "from sklearn.manifold import TSNE\n",
    "import matplotlib.pyplot as plt\n",
    "import numpy as np\n",
    "\n",
    "# Load the configuration file\n",
    "cfg = Config.fromfile('configs/segformer/segformer_mit-b0_512x512_160k_ade20k.py')\n",
    "\n",
    "# Load the model\n",
    "model = init_segmentor(cfg, checkpoint='checkpoints/segformer_mit-b0_512x512_160k_ade20k_20210615_190543-1c4f0b7f.pth')\n",
    "\n",
    "# Load the image\n",
    "img = 'demo/demo.png'\n",
    "\n",
    "# Perform inference\n",
    "result = inference_segmentor(model, img)\n",
    "\n",
    "# Get the class distribution\n",
    "class_distribution = np.bincount(result[0].flatten(), minlength=19)\n",
    "\n",
    "# Perform t-SNE\n",
    "tsne = TSNE(n_components=2, random_state=0)\n",
    "X = tsne.fit_transform(result[0].reshape(-1, 19))\n",
    "\n",
    "# Plot the results\n",
    "fig, ax = plt.subplots()\n",
    "for i in range(19):\n",
    "    indices = np.where(result[0] == i)\n",
    "    ax.scatter(X[indices, 0], X[indices, 1], label=cfg.data.test.classes[i])\n",
    "ax.legend()\n",
    "plt.show()"
   ]
  },
  {
   "attachments": {},
   "cell_type": "markdown",
   "metadata": {},
   "source": [
    "在mmcv中，用segformer对一张cityscapes图片进行语义分割，然后用tsne对分割结果进行降维，最后将19个类分布的结果可视化，标明类名，并且每个类别的点使用不同的颜色表示"
   ]
  },
  {
   "cell_type": "code",
   "execution_count": null,
   "metadata": {},
   "outputs": [],
   "source": [
    "from mmcv import Config\n",
    "from mmseg.apis import inference_segmentor, init_segmentor\n",
    "from sklearn.manifold import TSNE\n",
    "import matplotlib.pyplot as plt\n",
    "import numpy as np\n",
    "\n",
    "# load the config file\n",
    "cfg = Config.fromfile('configs/segformer/segformer_mit-b0_512x512_160k_ade20k.py')\n",
    "\n",
    "# load the model\n",
    "model = init_segmentor(cfg, 'https://download.openmmlab.com/mmsegmentation/v0.5/segformer/segformer_mit-b0_512x512_160k_ade20k/segformer_mit-b0_512x512_160k_ade20k_20211011_190919-9e7f7d5e.pth', device='cuda:0')\n",
    "\n",
    "# inference the segmentation result\n",
    "img = 'demo/demo.png'\n",
    "result = inference_segmentor(model, img)\n",
    "\n",
    "# get the class distribution\n",
    "class_dist = np.zeros((19,))\n",
    "for i in range(result[0].shape[0]):\n",
    "    for j in range(result[0].shape[1]):\n",
    "        class_dist[result[0][i][j]] += 1\n",
    "\n",
    "# perform tsne on the segmentation result\n",
    "tsne = TSNE(n_components=2, random_state=0)\n",
    "X = tsne.fit_transform(result[0].reshape(-1, result[0].shape[-1]))\n",
    "\n",
    "# plot the result\n",
    "fig, ax = plt.subplots()\n",
    "colors = ['b', 'g', 'r', 'c', 'm', 'y', 'k', 'w', 'orange', 'purple', 'brown', 'pink', 'gray', 'olive', 'navy', 'teal', 'gold', 'maroon', 'coral']\n",
    "for i in range(19):\n",
    "    idx = np.where(result[0].reshape(-1) == i)[0]\n",
    "    ax.scatter(X[idx, 0], X[idx, 1], c=colors[i], label=result[1][i])\n",
    "ax.legend()\n",
    "plt.show()"
   ]
  }
 ],
 "metadata": {
  "language_info": {
   "name": "python"
  },
  "orig_nbformat": 4
 },
 "nbformat": 4,
 "nbformat_minor": 2
}
