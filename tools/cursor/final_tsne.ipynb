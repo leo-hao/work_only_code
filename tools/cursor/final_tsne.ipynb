{
 "cells": [
  {
   "attachments": {},
   "cell_type": "markdown",
   "metadata": {},
   "source": [
    "通过mmseg的segformer中的model.encode_decode()获取了800张cityscapes的特征图，每张特征图的形状为（19，1024，1024），请问，如何用tsne可视化这800张特征图的分布，其中不同的特征用不同的颜色表示，cityscapes共有19个类。"
   ]
  },
  {
   "cell_type": "code",
   "execution_count": null,
   "metadata": {
    "vscode": {
     "languageId": "plaintext"
    }
   },
   "outputs": [],
   "source": [
    "import mmcv\n",
    "from mmcv import Config\n",
    "from mmseg.apis import inference_segmentor, init_segmentor\n",
    "from sklearn.manifold import TSNE\n",
    "import numpy as np\n",
    "import matplotlib.pyplot as plt\n",
    "from mmseg.datasets import build_dataloader, build_dataset"
   ]
  },
  {
   "cell_type": "code",
   "execution_count": null,
   "metadata": {
    "vscode": {
     "languageId": "plaintext"
    }
   },
   "outputs": [],
   "source": [
    "# initialize the segmentor\n",
    "cfg = Config.fromfile('configs/segformer/segformer_mit-b0_8x1_1024x1024_160k_cityscapes.py')\n",
    "checkpoint_file = 'checkpoint/segformer_mit-b0_8x1_1024x1024_160k_cityscapes_20211208_101857-e7f88502.pth'\n",
    "model = init_segmentor(cfg, checkpoint_file, device='cuda:0')\n",
    "\n",
    "# load the dataset\n",
    "data_dir = 'data/cityscapes/leftImg8bit/train'\n",
    "#img_infos = mmcv.scan_images(data_dir, recursive=True)\n",
    "dataset = build_dataset(cfg.data.train)\n",
    "dataloader = build_dataloader(\n",
    "    dataset,\n",
    "    samples_per_gpu=1,\n",
    "    workers_per_gpu=1,\n",
    "    dist=False,\n",
    "    shuffle=False)"
   ]
  },
  {
   "cell_type": "code",
   "execution_count": null,
   "metadata": {
    "vscode": {
     "languageId": "plaintext"
    }
   },
   "outputs": [],
   "source": [
    "device = torch.device(\"cuda:0\" if torch.cuda.is_available() else 'cpu')\n",
    "model.eval()\n",
    "model.to(device)\n",
    "feat_maps = []\n",
    "for i, data in enumerate(dataloader):\n",
    "  img_metas = data['img_metas'].data\n",
    "  images = data['img'].data[0].to(device)\n",
    "  img_path = data['img_metas'].data[0][0].get('filename')\n",
    "  out = model.encode_decode(images, img_metas)#out.shape (1,19,1024,1024)\n",
    "  out = out.squeeze()\n",
    "  feat_map = out.reshape(19,-1)\n",
    "  feat_map = feat_map.cpu().detach().numpy()\n",
    "  feat_maps.append(feat_map)\n",
    "  if i == 200:\n",
    "    break"
   ]
  },
  {
   "attachments": {},
   "cell_type": "markdown",
   "metadata": {},
   "source": [
    "通过mmseg的segformer中的model.encode_decode()获取了800张cityscapes的特征图，每张特征图的形状为（1，19，1024，1024），请问，如何用tsne可视化这800张特征图的中特征分布情况，其中不同的特征用不同的颜色表示，cityscapes共有19个类\n",
    "\n",
    "\n",
    "\n",
    "\n",
    "针对您的数据，您需要对每个类别分别进行t-SNE降维，然后将每个类别的降维结果合并起来进行可视化。\n",
    "\n",
    "以下是一个简单的代码示例，假设您的特征图中的19个类别分别为0到18：\n",
    "\n",
    "\n",
    "我有个问题就是我的特征图里面的值都是浮点数"
   ]
  },
  {
   "cell_type": "code",
   "execution_count": null,
   "metadata": {
    "vscode": {
     "languageId": "plaintext"
    }
   },
   "outputs": [],
   "source": [
    "import numpy as np\n",
    "from sklearn.manifold import TSNE\n",
    "import matplotlib.pyplot as plt\n",
    "\n",
    "# 对每个类别进行t-SNE降维处理\n",
    "tsne = TSNE(n_components=2)\n",
    "\n",
    "X_all = np.empty((0, 19*1024*1024))\n",
    "labels_all = np.empty((0,), dtype=int)\n",
    "\n",
    "for label in range(19):\n",
    "    # 选取特定类别的特征图\n",
    "    features = feature_maps[:, label, :, :]\n",
    "    \n",
    "    # 将所有特征图展平成一维向量\n",
    "    flatten_features = []\n",
    "    for feature_map in features:\n",
    "        flatten_features.append(feature_map.reshape(-1))\n",
    "\n",
    "    X = np.array(flatten_features)\n",
    "\n",
    "    # 对当前类别进行t-SNE降维\n",
    "    X_tsne = tsne.fit_transform(X)\n",
    "    \n",
    "    # 将降维结果和对应的标签合并到总数组中\n",
    "    X_all = np.concatenate((X_all, X_tsne))\n",
    "    labels_all = np.concatenate((labels_all, np.repeat(label, len(feature_maps))))\n",
    "\n",
    "# 给每个类别着色\n",
    "colors = ['r', 'b', 'g', 'c', 'm', 'y', 'k', 'w', 'orange', 'pink', 'purple', 'brown', 'gray', 'olive', 'lime', 'teal', 'navy', 'indigo', 'maroon']\n",
    "label_colors = [colors[label] for label in labels_all]\n",
    "\n",
    "# 绘制可视化图像\n",
    "plt.scatter(X_all[:, 0], X_all[:, 1], c=label_colors)\n",
    "plt.show()\n"
   ]
  },
  {
   "attachments": {},
   "cell_type": "markdown",
   "metadata": {},
   "source": [
    "X_all = np.concatenate((X_all, X_tsne))，ValueError: all the input array dimensions for the concatenation axis must match exactly, but along dimension 1, the array at index 0 has size 19922944 and the array at index 1 has size 2\n",
    "\n",
    "非常抱歉，我理解有误。您的问题是由于在进行特征图展平后，每张图的特征向量长度为 1910241024 = 19922944，而在对每个类别进行 t-SNE 降维时，t-SNE 方法将特征向量的维度从 19922944 降至 2，导致每个类别的降维结果不再具有相同的维度，无法在 np.concatenate 中进行合并。\n",
    "\n",
    "为了解决这个问题，您可以在每个类别的 t-SNE 降维之后，将降维后的结果和对应的标签合并为一个元组，将所有元组放入一个列表中，最后使用 plt.scatter 函数将所有点绘制在二维坐标系中。以下是修改后的代码示例："
   ]
  },
  {
   "cell_type": "code",
   "execution_count": null,
   "metadata": {
    "vscode": {
     "languageId": "plaintext"
    }
   },
   "outputs": [],
   "source": [
    "import numpy as np\n",
    "from sklearn.manifold import TSNE\n",
    "import matplotlib.pyplot as plt\n",
    "\n",
    "# 对每个类别进行t-SNE降维处理\n",
    "tsne = TSNE(n_components=2)\n",
    "\n",
    "data = []\n",
    "\n",
    "for label in range(19):\n",
    "    # 选取特定类别的特征图\n",
    "    features = feature_maps[:, label, :, :]\n",
    "    \n",
    "    # 将所有特征图展平成一维向量\n",
    "    flatten_features = []\n",
    "    for feature_map in features:\n",
    "        flatten_features.append(feature_map.reshape(-1))\n",
    "\n",
    "    X = np.array(flatten_features)\n",
    "\n",
    "    # 对当前类别进行t-SNE降维\n",
    "    X_tsne = tsne.fit_transform(X)\n",
    "    \n",
    "    # 将降维结果和对应的标签合并到列表中\n",
    "    data.append((X_tsne, label))\n",
    "\n",
    "# 给每个类别着色\n",
    "colors = ['r', 'b', 'g', 'c', 'm', 'y', 'k', 'w', 'orange', 'pink', 'purple', 'brown', 'gray', 'olive', 'lime', 'teal', 'navy', 'indigo', 'maroon']\n",
    "\n",
    "# 绘制可视化图像\n",
    "for X_tsne, label in data:\n",
    "    label_color = colors[label]\n",
    "    plt.scatter(X_tsne[:, 0], X_tsne[:, 1], c=label_color)\n",
    "\n",
    "plt.show()\n"
   ]
  }
 ],
 "metadata": {
  "language_info": {
   "name": "python"
  },
  "orig_nbformat": 4
 },
 "nbformat": 4,
 "nbformat_minor": 2
}
